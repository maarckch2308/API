{
 "cells": [
  {
   "cell_type": "code",
   "execution_count": 23,
   "id": "ca478c57",
   "metadata": {},
   "outputs": [
    {
     "name": "stdout",
     "output_type": "stream",
     "text": [
      "\n",
      "Texto: No me lo esperaba para nada. Justo cuando pensé que todo estaba perdido, recibí una llamada que cambió por completo el rumbo de mi día.\n",
      "\n",
      "Probabilidades por emoción:\n",
      "alegría      : 8.87%\n",
      "ira          : 3.52%\n",
      "tristeza     : 15.32%\n",
      "asco         : 1.37%\n",
      "miedo        : 7.79%\n",
      "neutral      : 4.44%\n",
      "confianza    : 5.68%\n",
      "sorpresa     : 41.38%\n",
      "anticipación : 11.63%\n",
      "\n",
      "Emoción detectada: sorpresa\n"
     ]
    }
   ],
   "source": [
    "from transformers import AutoTokenizer, AutoModelForSequenceClassification\n",
    "import torch\n",
    "import torch.nn.functional as F\n",
    "\n",
    "# Ruta local\n",
    "MODEL_PATH = \"./model\"\n",
    "\n",
    "# Cargar tokenizer y modelo local\n",
    "tokenizer = AutoTokenizer.from_pretrained(MODEL_PATH, local_files_only=True)\n",
    "model = AutoModelForSequenceClassification.from_pretrained(MODEL_PATH, local_files_only=True)\n",
    "\n",
    "# Etiquetas correctas del modelo\n",
    "labels = [\n",
    "'alegría', 'ira', 'tristeza', 'asco',\n",
    "'miedo', 'neutral', 'confianza', 'sorpresa', 'anticipación'\n",
    "]\n",
    "\n",
    "# Texto de prueba\n",
    "texto = \"No me lo esperaba para nada. Justo cuando pensé que todo estaba perdido, recibí una llamada que cambió por completo el rumbo de mi día.\"\n",
    "\n",
    "# Tokenizar\n",
    "inputs = tokenizer(texto, return_tensors=\"pt\")\n",
    "\n",
    "# Inference\n",
    "with torch.no_grad():\n",
    "    logits = model(**inputs).logits\n",
    "    probs = F.softmax(logits, dim=1).squeeze().tolist()\n",
    "\n",
    "# Mostrar resultados en porcentaje\n",
    "print(f\"\\nTexto: {texto}\\n\")\n",
    "print(\"Probabilidades por emoción:\")\n",
    "for label, prob in zip(labels, probs):\n",
    "    print(f\"{label:<13}: {prob*100:.2f}%\")\n",
    "\n",
    "# Emoción más probable\n",
    "predicted_idx = torch.argmax(torch.tensor(probs)).item()\n",
    "print(f\"\\nEmoción detectada: {labels[predicted_idx]}\")\n"
   ]
  }
 ],
 "metadata": {
  "kernelspec": {
   "display_name": "Python 3",
   "language": "python",
   "name": "python3"
  },
  "language_info": {
   "codemirror_mode": {
    "name": "ipython",
    "version": 3
   },
   "file_extension": ".py",
   "mimetype": "text/x-python",
   "name": "python",
   "nbconvert_exporter": "python",
   "pygments_lexer": "ipython3",
   "version": "3.10.5"
  }
 },
 "nbformat": 4,
 "nbformat_minor": 5
}
